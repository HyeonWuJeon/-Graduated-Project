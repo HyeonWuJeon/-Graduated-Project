{
 "cells": [
  {
   "cell_type": "code",
   "execution_count": 116,
   "metadata": {},
   "outputs": [],
   "source": [
    "import pandas as pd\n",
    "import numpy as np\n",
    "import pickle"
   ]
  },
  {
   "cell_type": "code",
   "execution_count": 117,
   "metadata": {},
   "outputs": [
    {
     "data": {
      "text/html": [
       "<div>\n",
       "<style scoped>\n",
       "    .dataframe tbody tr th:only-of-type {\n",
       "        vertical-align: middle;\n",
       "    }\n",
       "\n",
       "    .dataframe tbody tr th {\n",
       "        vertical-align: top;\n",
       "    }\n",
       "\n",
       "    .dataframe thead th {\n",
       "        text-align: right;\n",
       "    }\n",
       "</style>\n",
       "<table border=\"1\" class=\"dataframe\">\n",
       "  <thead>\n",
       "    <tr style=\"text-align: right;\">\n",
       "      <th></th>\n",
       "      <th>과호흡</th>\n",
       "      <th>급사</th>\n",
       "      <th>기침</th>\n",
       "      <th>염증</th>\n",
       "      <th>구토</th>\n",
       "      <th>탈모</th>\n",
       "      <th>무기력</th>\n",
       "      <th>발열</th>\n",
       "      <th>녹내장</th>\n",
       "      <th>거리감각불능</th>\n",
       "      <th>난청</th>\n",
       "      <th>요실금</th>\n",
       "      <th>설사</th>\n",
       "      <th>식욕부진</th>\n",
       "      <th>체중감소</th>\n",
       "      <th>질병명</th>\n",
       "    </tr>\n",
       "  </thead>\n",
       "  <tbody>\n",
       "    <tr>\n",
       "      <th>0</th>\n",
       "      <td>0</td>\n",
       "      <td>0</td>\n",
       "      <td>0</td>\n",
       "      <td>0</td>\n",
       "      <td>1</td>\n",
       "      <td>0</td>\n",
       "      <td>1</td>\n",
       "      <td>0</td>\n",
       "      <td>0</td>\n",
       "      <td>1</td>\n",
       "      <td>0</td>\n",
       "      <td>0</td>\n",
       "      <td>0</td>\n",
       "      <td>0</td>\n",
       "      <td>0</td>\n",
       "      <td>마카다미아너트 중독증</td>\n",
       "    </tr>\n",
       "    <tr>\n",
       "      <th>1</th>\n",
       "      <td>0</td>\n",
       "      <td>0</td>\n",
       "      <td>0</td>\n",
       "      <td>0</td>\n",
       "      <td>1</td>\n",
       "      <td>0</td>\n",
       "      <td>1</td>\n",
       "      <td>0</td>\n",
       "      <td>0</td>\n",
       "      <td>0</td>\n",
       "      <td>0</td>\n",
       "      <td>0</td>\n",
       "      <td>0</td>\n",
       "      <td>0</td>\n",
       "      <td>0</td>\n",
       "      <td>마카다미아너트 중독증</td>\n",
       "    </tr>\n",
       "    <tr>\n",
       "      <th>2</th>\n",
       "      <td>0</td>\n",
       "      <td>0</td>\n",
       "      <td>0</td>\n",
       "      <td>0</td>\n",
       "      <td>0</td>\n",
       "      <td>0</td>\n",
       "      <td>1</td>\n",
       "      <td>0</td>\n",
       "      <td>0</td>\n",
       "      <td>1</td>\n",
       "      <td>0</td>\n",
       "      <td>0</td>\n",
       "      <td>0</td>\n",
       "      <td>0</td>\n",
       "      <td>0</td>\n",
       "      <td>마카다미아너트 중독증</td>\n",
       "    </tr>\n",
       "    <tr>\n",
       "      <th>3</th>\n",
       "      <td>0</td>\n",
       "      <td>0</td>\n",
       "      <td>0</td>\n",
       "      <td>0</td>\n",
       "      <td>1</td>\n",
       "      <td>0</td>\n",
       "      <td>0</td>\n",
       "      <td>0</td>\n",
       "      <td>0</td>\n",
       "      <td>1</td>\n",
       "      <td>0</td>\n",
       "      <td>0</td>\n",
       "      <td>0</td>\n",
       "      <td>0</td>\n",
       "      <td>0</td>\n",
       "      <td>마카다미아너트 중독증</td>\n",
       "    </tr>\n",
       "    <tr>\n",
       "      <th>4</th>\n",
       "      <td>0</td>\n",
       "      <td>0</td>\n",
       "      <td>0</td>\n",
       "      <td>0</td>\n",
       "      <td>1</td>\n",
       "      <td>0</td>\n",
       "      <td>1</td>\n",
       "      <td>0</td>\n",
       "      <td>0</td>\n",
       "      <td>1</td>\n",
       "      <td>0</td>\n",
       "      <td>0</td>\n",
       "      <td>0</td>\n",
       "      <td>0</td>\n",
       "      <td>0</td>\n",
       "      <td>마카다미아너트 중독증</td>\n",
       "    </tr>\n",
       "  </tbody>\n",
       "</table>\n",
       "</div>"
      ],
      "text/plain": [
       "   과호흡  급사  기침  염증  구토  탈모  무기력  발열  녹내장  거리감각불능  난청  요실금  설사  식욕부진  체중감소  \\\n",
       "0    0   0   0   0   1   0    1   0    0       1   0    0   0     0     0   \n",
       "1    0   0   0   0   1   0    1   0    0       0   0    0   0     0     0   \n",
       "2    0   0   0   0   0   0    1   0    0       1   0    0   0     0     0   \n",
       "3    0   0   0   0   1   0    0   0    0       1   0    0   0     0     0   \n",
       "4    0   0   0   0   1   0    1   0    0       1   0    0   0     0     0   \n",
       "\n",
       "           질병명  \n",
       "0  마카다미아너트 중독증  \n",
       "1  마카다미아너트 중독증  \n",
       "2  마카다미아너트 중독증  \n",
       "3  마카다미아너트 중독증  \n",
       "4  마카다미아너트 중독증  "
      ]
     },
     "execution_count": 117,
     "metadata": {},
     "output_type": "execute_result"
    }
   ],
   "source": [
    "# Load Training data\n",
    "df = pd.read_csv('data/clean/dog_disease_train.csv', encoding='cp949')\n",
    "\n",
    "df.head()"
   ]
  },
  {
   "cell_type": "code",
   "execution_count": 118,
   "metadata": {},
   "outputs": [],
   "source": [
    "X = df.iloc[:, :-1]\n",
    "y = df['질병명']"
   ]
  },
  {
   "cell_type": "code",
   "execution_count": 119,
   "metadata": {},
   "outputs": [],
   "source": [
    "# Train, Test split\n",
    "from sklearn.model_selection import train_test_split\n",
    "from sklearn.externals import joblib \n",
    "\n",
    "X_train, X_test, y_train, y_test = train_test_split(X, y, test_size=0.3, random_state=20)"
   ]
  },
  {
   "cell_type": "code",
   "execution_count": 120,
   "metadata": {},
   "outputs": [],
   "source": [
    "# Random Forest Classifier\n",
    "from sklearn.ensemble import RandomForestClassifier\n",
    "\n",
    "rf_clf = RandomForestClassifier()\n",
    "# print(rf_clf)\n",
    "# file_name = 'model4.sav'\n",
    "# joblib.dump(rf_clf, file_name)\n",
    "# loaded_model4 = pickle.load(open(\"model4.sav\", \"rb\"))\n",
    "# print(loaded_model4)\n"
   ]
  },
  {
   "cell_type": "code",
   "execution_count": 121,
   "metadata": {},
   "outputs": [
    {
     "name": "stdout",
     "output_type": "stream",
     "text": [
      "RandomForestClassifier(bootstrap=True, ccp_alpha=0.0, class_weight=None,\n",
      "                       criterion='gini', max_depth=None, max_features='auto',\n",
      "                       max_leaf_nodes=None, max_samples=None,\n",
      "                       min_impurity_decrease=0.0, min_impurity_split=None,\n",
      "                       min_samples_leaf=1, min_samples_split=2,\n",
      "                       min_weight_fraction_leaf=0.0, n_estimators=100,\n",
      "                       n_jobs=None, oob_score=False, random_state=None,\n",
      "                       verbose=0, warm_start=False)\n",
      "Accuracy on split test:  1.0\n"
     ]
    }
   ],
   "source": [
    "rf_clf.fit(X_train, y_train)\n",
    "print(rf_clf)\n",
    "print(\"Accuracy on split test: \", rf_clf.score(X_test,y_test))"
   ]
  },
  {
   "cell_type": "code",
   "execution_count": 136,
   "metadata": {},
   "outputs": [
    {
     "name": "stdout",
     "output_type": "stream",
     "text": [
      "RandomForestClassifier(bootstrap=True, ccp_alpha=None, class_weight=None,\n",
      "                       criterion='gini', max_depth=None, max_features='auto',\n",
      "                       max_leaf_nodes=None, max_samples=None,\n",
      "                       min_impurity_decrease=0.0, min_impurity_split=None,\n",
      "                       min_samples_leaf=1, min_samples_split=2,\n",
      "                       min_weight_fraction_leaf=0.0, n_estimators=10, n_jobs=1,\n",
      "                       oob_score=False, random_state=None, verbose=0,\n",
      "                       warm_start=False)\n",
      "------------\n",
      "RandomForestClassifier(bootstrap=True, ccp_alpha=0.0, class_weight=None,\n",
      "                       criterion='gini', max_depth=None, max_features='auto',\n",
      "                       max_leaf_nodes=None, max_samples=None,\n",
      "                       min_impurity_decrease=0.0, min_impurity_split=None,\n",
      "                       min_samples_leaf=1, min_samples_split=2,\n",
      "                       min_weight_fraction_leaf=0.0, n_estimators=100,\n",
      "                       n_jobs=None, oob_score=False, random_state=None,\n",
      "                       verbose=0, warm_start=False)\n"
     ]
    }
   ],
   "source": [
    "#file_name = 'model2.sav'\n",
    "#joblib.dump(rf_clf, file_name)\n",
    "\n",
    "loaded_model = pickle.load(open(\"model.sav\", \"rb\"))\n",
    "# loaded_model2 = pickle.load(open(\"test.pkl\", \"rb\"))\n",
    "print(loaded_model)\n",
    "print(\"------------\")\n",
    "# print(loaded_model2)\n",
    "# file_name = 'model3.sav'\n",
    "# joblib.dump(rf_clf, file_name)\n",
    "# loaded_model3 = pickle.load(open(\"model3.sav\", \"rb\"))\n",
    "# print(loaded_model3)\n",
    "\n",
    "# clf_load = joblib.dump(rf_clf, \"test.pkl\")\n",
    "# from joblib import dump, load\n",
    "# pickle.dumps(rf_clf, \"test.joblib\")\n",
    "\n",
    "# print(\"model: \", loaded_model)\n",
    "# print()\n",
    "# print(\"rf_clf: \", s)\n",
    "\n",
    "# from sklearn.externals import joblib\n",
    "# file_name = 'model6.pkl'\n",
    "# obj = rf_clf\n",
    "# s = pickle.dumps(rf_clf)\n",
    "\n",
    "# joblib.dump(s,\"test.pkl\")\n",
    "# with open(\"model7.pkl\",'wb') as fid:\n",
    "#     pickle.dump(rf_clf, fid)\n",
    "\n",
    "loaded_model7 = pickle.load(open(\"model7.pkl\", \"rb\"))\n",
    "print(loaded_model7)"
   ]
  },
  {
   "cell_type": "code",
   "execution_count": 82,
   "metadata": {},
   "outputs": [],
   "source": [
    "# Load real test data\n",
    "df_test = pd.read_csv('data/clean/dog_disease_test.csv', encoding='cp949')"
   ]
  },
  {
   "cell_type": "code",
   "execution_count": 83,
   "metadata": {},
   "outputs": [],
   "source": [
    "X_acutal_test = df_test.iloc[:, :-1]\n",
    "y_actual_test = df_test['질병명']"
   ]
  },
  {
   "cell_type": "code",
   "execution_count": 84,
   "metadata": {},
   "outputs": [
    {
     "name": "stdout",
     "output_type": "stream",
     "text": [
      "Accuracy on acutal test:  1.0\n"
     ]
    }
   ],
   "source": [
    "print(\"Accuracy on acutal test: \", rf_clf.score(X_acutal_test, y_actual_test))"
   ]
  },
  {
   "cell_type": "code",
   "execution_count": 85,
   "metadata": {},
   "outputs": [],
   "source": [
    "symptoms_dict = {}\n",
    "\n",
    "for index, symptom in enumerate(X):\n",
    "    symptoms_dict[symptom] = index"
   ]
  },
  {
   "cell_type": "code",
   "execution_count": 86,
   "metadata": {},
   "outputs": [
    {
     "data": {
      "text/plain": [
       "{'과호흡': 0,\n",
       " '급사': 1,\n",
       " '기침': 2,\n",
       " '염증': 3,\n",
       " '구토': 4,\n",
       " '탈모': 5,\n",
       " '무기력': 6,\n",
       " '발열': 7,\n",
       " '녹내장': 8,\n",
       " '거리감각불능': 9,\n",
       " '난청': 10,\n",
       " '요실금': 11,\n",
       " '설사': 12,\n",
       " '식욕부진': 13,\n",
       " '체중감소': 14}"
      ]
     },
     "execution_count": 86,
     "metadata": {},
     "output_type": "execute_result"
    }
   ],
   "source": [
    "symptoms_dict"
   ]
  },
  {
   "cell_type": "code",
   "execution_count": 87,
   "metadata": {},
   "outputs": [
    {
     "name": "stdout",
     "output_type": "stream",
     "text": [
      "[0. 0. 0. 0. 0. 0. 0. 0. 0. 0. 0. 0. 0. 0. 0.]\n"
     ]
    }
   ],
   "source": [
    "input_vector = np.zeros(len(symptoms_dict))\n",
    "print(input_vector)"
   ]
  },
  {
   "cell_type": "code",
   "execution_count": 88,
   "metadata": {},
   "outputs": [
    {
     "name": "stdout",
     "output_type": "stream",
     "text": [
      "[0. 0. 0. 0. 0. 0. 0. 1. 0. 1. 0. 0. 0. 1. 0.]\n"
     ]
    }
   ],
   "source": [
    "input_vector[[symptoms_dict['발열'], symptoms_dict['거리감각불능'], symptoms_dict['식욕부진']]] = 1\n",
    "print(input_vector)"
   ]
  },
  {
   "cell_type": "code",
   "execution_count": 89,
   "metadata": {},
   "outputs": [
    {
     "data": {
      "text/plain": [
       "array([[0.  , 0.37, 0.63]])"
      ]
     },
     "execution_count": 89,
     "metadata": {},
     "output_type": "execute_result"
    }
   ],
   "source": [
    "rf_clf.predict_proba([input_vector])"
   ]
  },
  {
   "cell_type": "code",
   "execution_count": 90,
   "metadata": {
    "scrolled": true
   },
   "outputs": [
    {
     "data": {
      "text/plain": [
       "array(['코로나 바이러스 감염증'], dtype=object)"
      ]
     },
     "execution_count": 90,
     "metadata": {},
     "output_type": "execute_result"
    }
   ],
   "source": [
    "rf_clf.predict([input_vector])"
   ]
  }
 ],
 "metadata": {
  "kernelspec": {
   "display_name": "Python 3",
   "language": "python",
   "name": "python3"
  },
  "language_info": {
   "codemirror_mode": {
    "name": "ipython",
    "version": 3
   },
   "file_extension": ".py",
   "mimetype": "text/x-python",
   "name": "python",
   "nbconvert_exporter": "python",
   "pygments_lexer": "ipython3",
   "version": "3.7.6"
  }
 },
 "nbformat": 4,
 "nbformat_minor": 2
}
